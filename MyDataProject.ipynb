{
  "nbformat": 4,
  "nbformat_minor": 0,
  "metadata": {
    "colab": {
      "name": "MyDataProject.ipynb",
      "provenance": [],
      "mount_file_id": "1-hYwieL9Hre5rHJ2W8J-gimDei1AvuxS",
      "authorship_tag": "ABX9TyNYLyvR3sta0uf9ykd2rME0",
      "include_colab_link": true
    },
    "kernelspec": {
      "name": "python3",
      "display_name": "Python 3"
    },
    "language_info": {
      "name": "python"
    }
  },
  "cells": [
    {
      "cell_type": "markdown",
      "metadata": {
        "id": "view-in-github",
        "colab_type": "text"
      },
      "source": [
        "<a href=\"https://colab.research.google.com/github/datilasilva/MyDataProject/blob/main/MyDataProject.ipynb\" target=\"_parent\"><img src=\"https://colab.research.google.com/assets/colab-badge.svg\" alt=\"Open In Colab\"/></a>"
      ]
    },
    {
      "cell_type": "markdown",
      "source": [
        "# **Task**\n",
        "\n",
        "\n",
        "*   Select one or several services\n",
        "*   Contact them to get your data (asap!)\n",
        "*   Do an analysis on the data\n",
        "*   Create a visualization / presentation\n",
        "*   Prepare a 3-minute presentation – no more, no less\n"
      ],
      "metadata": {
        "id": "5XGgHO7t5kid"
      }
    },
    {
      "cell_type": "markdown",
      "source": [
        "**DETAIL**\n",
        "\n",
        "MyData from: Google Takeout - Your account, your data.\n"
      ],
      "metadata": {
        "id": "bFAm7tkS6MS0"
      }
    },
    {
      "cell_type": "code",
      "source": [
        "#IMPORT LIBRARY\n",
        "import pandas as pd\n",
        "import io\n",
        "import numpy as np\n",
        "import matplotlib.pyplot as plt\n",
        "%matplotlib inline\n",
        "from datetime import date\n",
        "from datetime import datetime, timezone\n",
        "from collections import Counter\n",
        "import json\n",
        "from pandas import json_normalize\n",
        "import csv"
      ],
      "metadata": {
        "id": "2qHZz_7P7cKe"
      },
      "execution_count": null,
      "outputs": []
    },
    {
      "cell_type": "code",
      "source": [
        "#IMPORT DATA\n",
        "from google.colab import drive\n",
        "drive.mount('/content/drive')"
      ],
      "metadata": {
        "id": "i9ZOuaPTJUFz",
        "colab": {
          "base_uri": "https://localhost:8080/"
        },
        "outputId": "3748d2c9-d455-45a4-dbe1-51c903837488"
      },
      "execution_count": null,
      "outputs": [
        {
          "output_type": "stream",
          "name": "stdout",
          "text": [
            "Drive already mounted at /content/drive; to attempt to forcibly remount, call drive.mount(\"/content/drive\", force_remount=True).\n"
          ]
        }
      ]
    },
    {
      "cell_type": "code",
      "source": [
        "#IMPORT DATA PLAYLIST YOUTUBE\n",
        "catolic_music ='/content/drive/MyDrive/Assessement Hyper 2/Copy of Takeout/takeout-20220331T064458Z-001.zip (Unzipped Files)/Takeout/YouTube and YouTube Music/playlists/Católica.csv'\n",
        "mild_suffering_love = '/content/drive/MyDrive/Assessement Hyper 2/Copy of Takeout/takeout-20220331T064458Z-001.zip (Unzipped Files)/Takeout/YouTube and YouTube Music/playlists/Choro sem torresmo.csv'\n",
        "high_suffering_love = '/content/drive/MyDrive/Assessement Hyper 2/Copy of Takeout/takeout-20220331T064458Z-001.zip (Unzipped Files)/Takeout/YouTube and YouTube Music/playlists/Choro com torresmo.csv'\n",
        "strong_girl = '/content/drive/MyDrive/Assessement Hyper 2/Copy of Takeout/takeout-20220331T064458Z-001.zip (Unzipped Files)/Takeout/YouTube and YouTube Music/playlists/Menina, tu é foda!.csv'\n",
        "#IMPORT DATA SUBSCRIPTION\n",
        "subscription_youtube = '/content/drive/MyDrive/Assessement Hyper 2/Copy of Takeout/takeout-20220331T064458Z-001.zip (Unzipped Files)/Takeout/YouTube and YouTube Music/subscriptions/subscriptions.csv'\n"
      ],
      "metadata": {
        "id": "rcuKLYRI65ry"
      },
      "execution_count": null,
      "outputs": []
    },
    {
      "cell_type": "code",
      "source": [
        "#How many channels do I follow?\n",
        "subscription_youtube = pd.read_csv(subscription_youtube)\n",
        "subscription_youtube.shape"
      ],
      "metadata": {
        "colab": {
          "base_uri": "https://localhost:8080/"
        },
        "id": "ycmGJkQV_4hE",
        "outputId": "19721097-2b52-409a-e1d7-1dbc25831643"
      },
      "execution_count": null,
      "outputs": [
        {
          "output_type": "execute_result",
          "data": {
            "text/plain": [
              "(242, 3)"
            ]
          },
          "metadata": {},
          "execution_count": 142
        }
      ]
    },
    {
      "cell_type": "code",
      "source": [
        "#READ DATA high_suffering_love\n",
        "high_suffering = pd.read_csv(high_suffering_love)"
      ],
      "metadata": {
        "id": "S9QR_kPD8AEe"
      },
      "execution_count": null,
      "outputs": []
    },
    {
      "cell_type": "code",
      "source": [
        "#CLEAN values NaN\n",
        "high_suffering_columns = high_suffering.drop(columns=[\"Time Created\", \"Time Updated\", \"Description\", \"Visibility\", \"Title\"])\n",
        "high_suffering_love = high_suffering_columns.drop([0,1])"
      ],
      "metadata": {
        "id": "_EF5T1qy8LWU"
      },
      "execution_count": null,
      "outputs": []
    },
    {
      "cell_type": "code",
      "source": [
        "#SEPARATE day, month and hours\n",
        "\n",
        "high_suffering_love['Year'] = high_suffering_love['Channel ID'].str[:4]\n",
        "high_suffering_love['Date'] = high_suffering_love['Channel ID'].str[:10]\n",
        "high_suffering_love['Hour'] = high_suffering_love['Channel ID'].str[11:13]\n",
        "high_suffering_love['Time'] = high_suffering_love['Channel ID'].str[11:19]\n",
        "high_suffering_love['Month'] = high_suffering_love['Channel ID'].str[5:7]"
      ],
      "metadata": {
        "id": "tM800izt8e7s"
      },
      "execution_count": null,
      "outputs": []
    },
    {
      "cell_type": "code",
      "source": [
        "# QUESTION: What time I look for music to cry (love)? - FREQUENCY TIME\n",
        "high_suffering_love['Hour'].value_counts().plot(kind='bar', color=\"purple\", figsize=(14,6))"
      ],
      "metadata": {
        "colab": {
          "base_uri": "https://localhost:8080/",
          "height": 394
        },
        "id": "HoS5SERs9BGr",
        "outputId": "755d9e7e-772a-44f5-87b4-c75e763a3d3c"
      },
      "execution_count": null,
      "outputs": [
        {
          "output_type": "execute_result",
          "data": {
            "text/plain": [
              "<matplotlib.axes._subplots.AxesSubplot at 0x7f65f4f1a150>"
            ]
          },
          "metadata": {},
          "execution_count": 146
        },
        {
          "output_type": "display_data",
          "data": {
            "text/plain": [
              "<Figure size 1008x432 with 1 Axes>"
            ],
            "image/png": "[encoded data removed]"
          },
          "metadata": {
            "needs_background": "light"
          }
        }
      ]
    },
    {
      "cell_type": "markdown",
      "source": [
        "**CONCLUSION**\n",
        "\n",
        "Strangely, I searched for more songs about suffering in love (high) 14h, 23 and 00.\n",
        "\n",
        "\n",
        "23 and 00 its okay, but 14h??? What???\n",
        "________________________________________________________________________________"
      ],
      "metadata": {
        "id": "mNKu4N449w7c"
      }
    },
    {
      "cell_type": "code",
      "source": [
        "#READ DATA mild_suffering_love\n",
        "mild_suffering= pd.read_csv(mild_suffering_love)"
      ],
      "metadata": {
        "id": "a6_DvPW84SSS"
      },
      "execution_count": null,
      "outputs": []
    },
    {
      "cell_type": "code",
      "source": [
        "#CLEAN values NaN\n",
        "mild_suffering_columns = mild_suffering.drop(columns=[\"Time Created\", \"Time Updated\", \"Description\", \"Visibility\"])\n",
        "mild_suffering_love = mild_suffering_columns.drop([0,1])"
      ],
      "metadata": {
        "id": "iGKfBXOn4ahK"
      },
      "execution_count": null,
      "outputs": []
    },
    {
      "cell_type": "code",
      "source": [
        "#SEPARATE day, month and hours\n",
        "\n",
        "mild_suffering_love['Year'] = mild_suffering_love['Channel ID'].str[:4]\n",
        "mild_suffering_love['Date'] = mild_suffering_love['Channel ID'].str[:10]\n",
        "mild_suffering_love['Hour'] = mild_suffering_love['Channel ID'].str[11:13]\n",
        "mild_suffering_love['Time'] = mild_suffering_love['Channel ID'].str[11:19]\n",
        "mild_suffering_love['Month'] = mild_suffering_love['Channel ID'].str[5:7]"
      ],
      "metadata": {
        "id": "6LFCFP5R4ol8"
      },
      "execution_count": null,
      "outputs": []
    },
    {
      "cell_type": "code",
      "source": [
        "# QUESTION: What time I look for music to cry (love)? - FREQUENCY TIME\n",
        "mild_suffering_love['Hour'].value_counts().plot(kind='bar', color=\"black\", figsize=(14,6))"
      ],
      "metadata": {
        "colab": {
          "base_uri": "https://localhost:8080/",
          "height": 394
        },
        "id": "eoDA0S157OU1",
        "outputId": "860b031e-974c-4b03-9b2c-72b77a34be77"
      },
      "execution_count": null,
      "outputs": [
        {
          "output_type": "execute_result",
          "data": {
            "text/plain": [
              "<matplotlib.axes._subplots.AxesSubplot at 0x7f65f52ac950>"
            ]
          },
          "metadata": {},
          "execution_count": 150
        },
        {
          "output_type": "display_data",
          "data": {
            "text/plain": [
              "<Figure size 1008x432 with 1 Axes>"
            ],
            "image/png": "[encoded data removed]"
          },
          "metadata": {
            "needs_background": "light"
          }
        }
      ]
    },
    {
      "cell_type": "code",
      "source": [
        "# QUESTION: What time I look for music to cry (love)? - FREQUENCY TIME\n",
        "mild_suffering_love['Year'].value_counts().plot(kind='bar', color=\"black\", figsize=(14,6))"
      ],
      "metadata": {
        "colab": {
          "base_uri": "https://localhost:8080/",
          "height": 406
        },
        "id": "Pv8MF4Ev7tlx",
        "outputId": "75e6ba01-ce04-4906-d84f-bfe8ebba1489"
      },
      "execution_count": null,
      "outputs": [
        {
          "output_type": "execute_result",
          "data": {
            "text/plain": [
              "<matplotlib.axes._subplots.AxesSubplot at 0x7f65f4d9e590>"
            ]
          },
          "metadata": {},
          "execution_count": 151
        },
        {
          "output_type": "display_data",
          "data": {
            "text/plain": [
              "<Figure size 1008x432 with 1 Axes>"
            ],
            "image/png": "[encoded data removed]"
          },
          "metadata": {
            "needs_background": "light"
          }
        }
      ]
    },
    {
      "cell_type": "markdown",
      "source": [
        "**CONCLUSION**\n",
        "\n",
        "I searched for more songs about suffering in love (high) 13h, 23 and 00.\n",
        "\n",
        "In my lunch break and before sleep\n",
        "________________________________________________________________________________"
      ],
      "metadata": {
        "id": "0_7jhIzq_Ldu"
      }
    },
    {
      "cell_type": "code",
      "source": [
        "#READ DATA strong_girl_playlist\n",
        "strong_girl= pd.read_csv(strong_girl)"
      ],
      "metadata": {
        "id": "KngIgUk864yC"
      },
      "execution_count": null,
      "outputs": []
    },
    {
      "cell_type": "code",
      "source": [
        "#CLEAN values NaN\n",
        "strong_girl_columns = strong_girl.drop(columns=[\"Time Created\", \"Time Updated\", \"Description\", \"Visibility\"])\n",
        "strong_girl_playlist = strong_girl_columns.drop([0,1])"
      ],
      "metadata": {
        "id": "Z8Be1_sIgYKb"
      },
      "execution_count": null,
      "outputs": []
    },
    {
      "cell_type": "code",
      "source": [
        "#SEPARATE day, month and hours\n",
        "\n",
        "strong_girl_playlist['Year'] = strong_girl_playlist['Channel ID'].str[:4]\n",
        "strong_girl_playlist['Month'] = strong_girl_playlist['Channel ID'].str[5:7]\n",
        "#strong_girl_playlist['day'] = strong_girl_playlist['Channel ID'].str[8:10]\n",
        "strong_girl_playlist['Date'] = strong_girl_playlist['Channel ID'].str[:10]\n",
        "strong_girl_playlist['Hour'] = strong_girl_playlist['Channel ID'].str[11:13]\n",
        "#strong_girl_playlist['minute'] = strong_girl_playlist['Channel ID'].str[14:16]\n",
        "#strong_girl_playlist['second'] = strong_girl_playlist['Channel ID'].str[17:19]\n",
        "strong_girl_playlist['Time'] = strong_girl_playlist['Channel ID'].str[11:19]"
      ],
      "metadata": {
        "id": "nMlkv70gFzkJ"
      },
      "execution_count": null,
      "outputs": []
    },
    {
      "cell_type": "code",
      "source": [
        "# QUESTION: What time I look for music to feel like a strong woman? - FREQUENCY TIME\n",
        "strong_girl_playlist['Hour'].value_counts().plot(kind='bar', color=\"blue\", figsize=(14,6))"
      ],
      "metadata": {
        "colab": {
          "base_uri": "https://localhost:8080/",
          "height": 394
        },
        "id": "K4rUqPaZtaKU",
        "outputId": "4ebd3a30-1d2f-40b0-be88-6701ac11b1a2"
      },
      "execution_count": null,
      "outputs": [
        {
          "output_type": "execute_result",
          "data": {
            "text/plain": [
              "<matplotlib.axes._subplots.AxesSubplot at 0x7f65f4ff6110>"
            ]
          },
          "metadata": {},
          "execution_count": 155
        },
        {
          "output_type": "display_data",
          "data": {
            "text/plain": [
              "<Figure size 1008x432 with 1 Axes>"
            ],
            "image/png": "[encoded data removed]"
          },
          "metadata": {
            "needs_background": "light"
          }
        }
      ]
    },
    {
      "cell_type": "code",
      "source": [
        "# QUESTION: What time I look for music to feel like a strong woman? - FREQUENCY TIME\n",
        "strong_girl_playlist['Month'].value_counts().plot(kind='bar', color=\"blue\", figsize=(14,6))"
      ],
      "metadata": {
        "colab": {
          "base_uri": "https://localhost:8080/",
          "height": 394
        },
        "id": "FCL0BtGq1oat",
        "outputId": "b8922d56-5925-473d-d51f-7cee4040f2c0"
      },
      "execution_count": null,
      "outputs": [
        {
          "output_type": "execute_result",
          "data": {
            "text/plain": [
              "<matplotlib.axes._subplots.AxesSubplot at 0x7f65f4ceedd0>"
            ]
          },
          "metadata": {},
          "execution_count": 156
        },
        {
          "output_type": "display_data",
          "data": {
            "text/plain": [
              "<Figure size 1008x432 with 1 Axes>"
            ],
            "image/png": "[encoded data removed]"
          },
          "metadata": {
            "needs_background": "light"
          }
        }
      ]
    },
    {
      "cell_type": "code",
      "execution_count": null,
      "metadata": {
        "id": "W4FdcXGeUwS8",
        "colab": {
          "base_uri": "https://localhost:8080/"
        },
        "outputId": "564a31d5-d394-4158-fb61-5a4a8eb016a0"
      },
      "outputs": [
        {
          "output_type": "execute_result",
          "data": {
            "text/plain": [
              "Counter({'2021': 83, '2022': 2})"
            ]
          },
          "metadata": {},
          "execution_count": 157
        }
      ],
      "source": [
        "#Counter is the frequency\n",
        "strong_girl_year = strong_girl_playlist['Year']\n",
        "strong_girl_year_freq = Counter(strong_girl_year)\n",
        "strong_girl_year_freq"
      ]
    },
    {
      "cell_type": "code",
      "source": [
        "# QUESTION: When I look for music to feel like a strong woman? - FREQUENCY YEAR\n",
        "strong_girl_playlist['Year'].value_counts().plot(kind='bar', color=\"blue\", figsize=(14,6))"
      ],
      "metadata": {
        "id": "0cChRmyth4Cd",
        "colab": {
          "base_uri": "https://localhost:8080/",
          "height": 406
        },
        "outputId": "6120134a-6220-4441-e6e0-e94f99f9cfa2"
      },
      "execution_count": null,
      "outputs": [
        {
          "output_type": "execute_result",
          "data": {
            "text/plain": [
              "<matplotlib.axes._subplots.AxesSubplot at 0x7f65f4c23450>"
            ]
          },
          "metadata": {},
          "execution_count": 158
        },
        {
          "output_type": "display_data",
          "data": {
            "text/plain": [
              "<Figure size 1008x432 with 1 Axes>"
            ],
            "image/png": "[encoded data removed]"
          },
          "metadata": {
            "needs_background": "light"
          }
        }
      ]
    },
    {
      "cell_type": "markdown",
      "source": [
        "**CONCLUSION**\n",
        "\n",
        "I usually have a break between activities in Brazil and Sweden between 6pm - 8pm, it's probably a time when I look for songs to channel my energy and not give up.\n",
        "________________________________________________________________________________"
      ],
      "metadata": {
        "id": "8VUlpmdxyr4P"
      }
    },
    {
      "cell_type": "code",
      "source": [
        "#READ DATA strong_girl_playlist\n",
        "catolic_music = pd.read_csv(catolic_music)"
      ],
      "metadata": {
        "id": "gpDL7omkh4A1"
      },
      "execution_count": null,
      "outputs": []
    },
    {
      "cell_type": "code",
      "source": [
        "#CLEAN values NaN\n",
        "catolic_music_columns = catolic_music.drop(columns=[\"Time Created\", \"Time Updated\", \"Description\", \"Visibility\"])\n",
        "catolic_music = catolic_music_columns.drop([0,1])"
      ],
      "metadata": {
        "id": "rrah-oAWh39F"
      },
      "execution_count": null,
      "outputs": []
    },
    {
      "cell_type": "code",
      "source": [
        "#SEPARATE day, month and hours\n",
        "\n",
        "catolic_music['Year'] = catolic_music['Channel ID'].str[:4]\n",
        "catolic_music['Date'] = catolic_music['Channel ID'].str[:10]\n",
        "catolic_music['Hour'] = catolic_music['Channel ID'].str[11:13]\n",
        "catolic_music['Time'] = catolic_music['Channel ID'].str[11:19]\n",
        "catolic_music['Month'] = catolic_music['Channel ID'].str[5:7]"
      ],
      "metadata": {
        "id": "0bFxdDMrh37x"
      },
      "execution_count": null,
      "outputs": []
    },
    {
      "cell_type": "code",
      "source": [
        "#Match\n",
        "catolic_music.loc[(catolic_music['Year'] == '2017') & (catolic_music['Month'] == '07')].shape[0]"
      ],
      "metadata": {
        "colab": {
          "base_uri": "https://localhost:8080/"
        },
        "id": "2-mpMFtG5lzm",
        "outputId": "e3839eee-5162-4d77-aa0a-3e854ca48b70"
      },
      "execution_count": null,
      "outputs": [
        {
          "output_type": "execute_result",
          "data": {
            "text/plain": [
              "38"
            ]
          },
          "metadata": {},
          "execution_count": 162
        }
      ]
    },
    {
      "cell_type": "code",
      "source": [
        "catolic_music['Month'].value_counts().plot(kind='bar', color=\"orange\", figsize=(14,6))"
      ],
      "metadata": {
        "colab": {
          "base_uri": "https://localhost:8080/",
          "height": 394
        },
        "id": "90_puR4033CY",
        "outputId": "bc021e61-9f17-4bcd-b154-46b6ef0284f4"
      },
      "execution_count": null,
      "outputs": [
        {
          "output_type": "execute_result",
          "data": {
            "text/plain": [
              "<matplotlib.axes._subplots.AxesSubplot at 0x7f65f4ba9e50>"
            ]
          },
          "metadata": {},
          "execution_count": 163
        },
        {
          "output_type": "display_data",
          "data": {
            "text/plain": [
              "<Figure size 1008x432 with 1 Axes>"
            ],
            "image/png": "[encoded data removed]"
          },
          "metadata": {
            "needs_background": "light"
          }
        }
      ]
    },
    {
      "cell_type": "code",
      "source": [
        "# QUESTION: When I look for music about Good? - FREQUENCY TIME\n",
        "catolic_music['Year'].value_counts().plot(kind='bar', color=\"orange\", figsize=(14,6))"
      ],
      "metadata": {
        "id": "aMV3k3M2h34B",
        "colab": {
          "base_uri": "https://localhost:8080/",
          "height": 406
        },
        "outputId": "5fd60cd2-61c7-4607-a5b2-8e90aff6e424"
      },
      "execution_count": null,
      "outputs": [
        {
          "output_type": "execute_result",
          "data": {
            "text/plain": [
              "<matplotlib.axes._subplots.AxesSubplot at 0x7f65f4b222d0>"
            ]
          },
          "metadata": {},
          "execution_count": 164
        },
        {
          "output_type": "display_data",
          "data": {
            "text/plain": [
              "<Figure size 1008x432 with 1 Axes>"
            ],
            "image/png": "[encoded data removed]"
          },
          "metadata": {
            "needs_background": "light"
          }
        }
      ]
    },
    {
      "cell_type": "markdown",
      "source": [
        "**CONCLUSION**\n",
        "\n",
        "I looked for songs about God more often in 2017 and 2021. In those 2 moments I know there were challenges in my life.\n",
        "________________________________________________________________________________"
      ],
      "metadata": {
        "id": "7K7Q2hny2qja"
      }
    },
    {
      "cell_type": "code",
      "source": [
        "#open json file\n",
        "june_2016 = '/content/drive/MyDrive/Assessement Hyper 2/Copy of Takeout/takeout-20220331T064458Z-001.zip (Unzipped Files) (1)/Takeout/Location History/Semantic Location History/2016/2016_JUNE.json'\n",
        "june_2016_read = pd.read_json(june_2016)\n",
        "#acess path\n",
        "#print(june_2016_read['timelineObjects'][0]['placeVisit']['location']['name'])\n",
        "#create empty and input online name and address\n",
        "name_list = []\n",
        "for t in june_2016_read['timelineObjects']:\n",
        "  if 'placeVisit' in t:\n",
        "     name_list.append(\n",
        "        {\n",
        "            'name': t['placeVisit']['location']['name'],\n",
        "            'address': t['placeVisit']['location']['address']\n",
        "        }\n",
        "    )\n",
        "#create DataFrame\n",
        "df = pd.DataFrame(name_list)\n",
        "df"
      ],
      "metadata": {
        "colab": {
          "base_uri": "https://localhost:8080/",
          "height": 424
        },
        "id": "hVo6DV6KYs-I",
        "outputId": "62eb35ab-5792-4caf-9319-a08ddacf68e8"
      },
      "execution_count": null,
      "outputs": [
        {
          "output_type": "execute_result",
          "data": {
            "text/plain": [
              "                                                 name  \\\n",
              "0                        Hamburgão e Mexidão do Mayck   \n",
              "1                                Praça Euzébio Cabral   \n",
              "2   Receita Federal - Delegacia de Receita Federal...   \n",
              "3                                              ARDOCE   \n",
              "4            Fórum da Comarca de Governador Valadares   \n",
              "..                                                ...   \n",
              "87                                           Big Mais   \n",
              "88                        Moto Taxi Expresso Ferrovia   \n",
              "89  Receita Federal - Delegacia de Receita Federal...   \n",
              "90                               Praça Getúlio Vargas   \n",
              "91                        Moto Taxi Expresso Ferrovia   \n",
              "\n",
              "                                              address  \n",
              "0   Avenida Vereador Hamilton Teodoro Guimarães, 1...  \n",
              "1   Praça Euzébio Cabral - Esplanada, Governador V...  \n",
              "2   Avenida Brasil, 2866 - Centro, Governador Vala...  \n",
              "3   Rua 14, 158 - Ilha dos Araújos, Governador Val...  \n",
              "4   Praça do XX Aniversário, s/n - Centro, Governa...  \n",
              "..                                                ...  \n",
              "87  Avenida Carlos Gomes, 209 - Altinópolis, Gover...  \n",
              "88  Avenida Vereador Hamilton Teodoro Guimarães, 9...  \n",
              "89  Avenida Brasil, 2866 - Centro, Governador Vala...  \n",
              "90  Rua Alagoas, S/N - Lourdes, Governador Valadar...  \n",
              "91  Avenida Vereador Hamilton Teodoro Guimarães, 9...  \n",
              "\n",
              "[92 rows x 2 columns]"
            ],
            "text/html": [
              "\n",
              "  <div id=\"df-aabba7de-c7f0-4575-800e-902bf1e47f1b\">\n",
              "    <div class=\"colab-df-container\">\n",
              "      <div>\n",
              "<style scoped>\n",
              "    .dataframe tbody tr th:only-of-type {\n",
              "        vertical-align: middle;\n",
              "    }\n",
              "\n",
              "    .dataframe tbody tr th {\n",
              "        vertical-align: top;\n",
              "    }\n",
              "\n",
              "    .dataframe thead th {\n",
              "        text-align: right;\n",
              "    }\n",
              "</style>\n",
              "<table border=\"1\" class=\"dataframe\">\n",
              "  <thead>\n",
              "    <tr style=\"text-align: right;\">\n",
              "      <th></th>\n",
              "      <th>name</th>\n",
              "      <th>address</th>\n",
              "    </tr>\n",
              "  </thead>\n",
              "  <tbody>\n",
              "    <tr>\n",
              "      <th>0</th>\n",
              "      <td>Hamburgão e Mexidão do Mayck</td>\n",
              "      <td>Avenida Vereador Hamilton Teodoro Guimarães, 1...</td>\n",
              "    </tr>\n",
              "    <tr>\n",
              "      <th>1</th>\n",
              "      <td>Praça Euzébio Cabral</td>\n",
              "      <td>Praça Euzébio Cabral - Esplanada, Governador V...</td>\n",
              "    </tr>\n",
              "    <tr>\n",
              "      <th>2</th>\n",
              "      <td>Receita Federal - Delegacia de Receita Federal...</td>\n",
              "      <td>Avenida Brasil, 2866 - Centro, Governador Vala...</td>\n",
              "    </tr>\n",
              "    <tr>\n",
              "      <th>3</th>\n",
              "      <td>ARDOCE</td>\n",
              "      <td>Rua 14, 158 - Ilha dos Araújos, Governador Val...</td>\n",
              "    </tr>\n",
              "    <tr>\n",
              "      <th>4</th>\n",
              "      <td>Fórum da Comarca de Governador Valadares</td>\n",
              "      <td>Praça do XX Aniversário, s/n - Centro, Governa...</td>\n",
              "    </tr>\n",
              "    <tr>\n",
              "      <th>...</th>\n",
              "      <td>...</td>\n",
              "      <td>...</td>\n",
              "    </tr>\n",
              "    <tr>\n",
              "      <th>87</th>\n",
              "      <td>Big Mais</td>\n",
              "      <td>Avenida Carlos Gomes, 209 - Altinópolis, Gover...</td>\n",
              "    </tr>\n",
              "    <tr>\n",
              "      <th>88</th>\n",
              "      <td>Moto Taxi Expresso Ferrovia</td>\n",
              "      <td>Avenida Vereador Hamilton Teodoro Guimarães, 9...</td>\n",
              "    </tr>\n",
              "    <tr>\n",
              "      <th>89</th>\n",
              "      <td>Receita Federal - Delegacia de Receita Federal...</td>\n",
              "      <td>Avenida Brasil, 2866 - Centro, Governador Vala...</td>\n",
              "    </tr>\n",
              "    <tr>\n",
              "      <th>90</th>\n",
              "      <td>Praça Getúlio Vargas</td>\n",
              "      <td>Rua Alagoas, S/N - Lourdes, Governador Valadar...</td>\n",
              "    </tr>\n",
              "    <tr>\n",
              "      <th>91</th>\n",
              "      <td>Moto Taxi Expresso Ferrovia</td>\n",
              "      <td>Avenida Vereador Hamilton Teodoro Guimarães, 9...</td>\n",
              "    </tr>\n",
              "  </tbody>\n",
              "</table>\n",
              "<p>92 rows × 2 columns</p>\n",
              "</div>\n",
              "      <button class=\"colab-df-convert\" onclick=\"convertToInteractive('df-aabba7de-c7f0-4575-800e-902bf1e47f1b')\"\n",
              "              title=\"Convert this dataframe to an interactive table.\"\n",
              "              style=\"display:none;\">\n",
              "        \n",
              "  <svg xmlns=\"http://www.w3.org/2000/svg\" height=\"24px\"viewBox=\"0 0 24 24\"\n",
              "       width=\"24px\">\n",
              "    <path d=\"M0 0h24v24H0V0z\" fill=\"none\"/>\n",
              "    <path d=\"M18.56 5.44l.94 2.06.94-2.06 2.06-.94-2.06-.94-.94-2.06-.94 2.06-2.06.94zm-11 1L8.5 8.5l.94-2.06 2.06-.94-2.06-.94L8.5 2.5l-.94 2.06-2.06.94zm10 10l.94 2.06.94-2.06 2.06-.94-2.06-.94-.94-2.06-.94 2.06-2.06.94z\"/><path d=\"M17.41 7.96l-1.37-1.37c-.4-.4-.92-.59-1.43-.59-.52 0-1.04.2-1.43.59L10.3 9.45l-7.72 7.72c-.78.78-.78 2.05 0 2.83L4 21.41c.39.39.9.59 1.41.59.51 0 1.02-.2 1.41-.59l7.78-7.78 2.81-2.81c.8-.78.8-2.07 0-2.86zM5.41 20L4 18.59l7.72-7.72 1.47 1.35L5.41 20z\"/>\n",
              "  </svg>\n",
              "      </button>\n",
              "      \n",
              "  <style>\n",
              "    .colab-df-container {\n",
              "      display:flex;\n",
              "      flex-wrap:wrap;\n",
              "      gap: 12px;\n",
              "    }\n",
              "\n",
              "    .colab-df-convert {\n",
              "      background-color: #E8F0FE;\n",
              "      border: none;\n",
              "      border-radius: 50%;\n",
              "      cursor: pointer;\n",
              "      display: none;\n",
              "      fill: #1967D2;\n",
              "      height: 32px;\n",
              "      padding: 0 0 0 0;\n",
              "      width: 32px;\n",
              "    }\n",
              "\n",
              "    .colab-df-convert:hover {\n",
              "      background-color: #E2EBFA;\n",
              "      box-shadow: 0px 1px 2px rgba(60, 64, 67, 0.3), 0px 1px 3px 1px rgba(60, 64, 67, 0.15);\n",
              "      fill: #174EA6;\n",
              "    }\n",
              "\n",
              "    [theme=dark] .colab-df-convert {\n",
              "      background-color: #3B4455;\n",
              "      fill: #D2E3FC;\n",
              "    }\n",
              "\n",
              "    [theme=dark] .colab-df-convert:hover {\n",
              "      background-color: #434B5C;\n",
              "      box-shadow: 0px 1px 3px 1px rgba(0, 0, 0, 0.15);\n",
              "      filter: drop-shadow(0px 1px 2px rgba(0, 0, 0, 0.3));\n",
              "      fill: #FFFFFF;\n",
              "    }\n",
              "  </style>\n",
              "\n",
              "      <script>\n",
              "        const buttonEl =\n",
              "          document.querySelector('#df-aabba7de-c7f0-4575-800e-902bf1e47f1b button.colab-df-convert');\n",
              "        buttonEl.style.display =\n",
              "          google.colab.kernel.accessAllowed ? 'block' : 'none';\n",
              "\n",
              "        async function convertToInteractive(key) {\n",
              "          const element = document.querySelector('#df-aabba7de-c7f0-4575-800e-902bf1e47f1b');\n",
              "          const dataTable =\n",
              "            await google.colab.kernel.invokeFunction('convertToInteractive',\n",
              "                                                     [key], {});\n",
              "          if (!dataTable) return;\n",
              "\n",
              "          const docLinkHtml = 'Like what you see? Visit the ' +\n",
              "            '<a target=\"_blank\" href=https://colab.research.google.com/notebooks/data_table.ipynb>data table notebook</a>'\n",
              "            + ' to learn more about interactive tables.';\n",
              "          element.innerHTML = '';\n",
              "          dataTable['output_type'] = 'display_data';\n",
              "          await google.colab.output.renderOutput(dataTable, element);\n",
              "          const docLink = document.createElement('div');\n",
              "          docLink.innerHTML = docLinkHtml;\n",
              "          element.appendChild(docLink);\n",
              "        }\n",
              "      </script>\n",
              "    </div>\n",
              "  </div>\n",
              "  "
            ]
          },
          "metadata": {},
          "execution_count": 165
        }
      ]
    },
    {
      "cell_type": "code",
      "source": [
        "#The glob module is a useful part of the Python standard library. glob (short for global) is used to return all file paths that match a specific pattern.\n",
        "import glob\n",
        "import pathlib\n",
        "files = glob.glob('/content/drive/MyDrive/Assessement Hyper 2/Copy of Takeout/takeout-20220331T064458Z-001.zip (Unzipped Files) (1)/Takeout/Location History/Semantic Location History/2016/*.json')"
      ],
      "metadata": {
        "id": "2JKZFb30pDHt"
      },
      "execution_count": null,
      "outputs": []
    },
    {
      "cell_type": "code",
      "source": [
        "files"
      ],
      "metadata": {
        "colab": {
          "base_uri": "https://localhost:8080/"
        },
        "id": "3uypBw2m2iyA",
        "outputId": "5e91e260-e0fb-44be-e6ff-b415e3bd1e62"
      },
      "execution_count": null,
      "outputs": [
        {
          "output_type": "execute_result",
          "data": {
            "text/plain": [
              "['/content/drive/MyDrive/Assessement Hyper 2/Copy of Takeout/takeout-20220331T064458Z-001.zip (Unzipped Files) (1)/Takeout/Location History/Semantic Location History/2016/2016_JUNE.json',\n",
              " '/content/drive/MyDrive/Assessement Hyper 2/Copy of Takeout/takeout-20220331T064458Z-001.zip (Unzipped Files) (1)/Takeout/Location History/Semantic Location History/2016/2016_OCTOBER.json',\n",
              " '/content/drive/MyDrive/Assessement Hyper 2/Copy of Takeout/takeout-20220331T064458Z-001.zip (Unzipped Files) (1)/Takeout/Location History/Semantic Location History/2016/2016_SEPTEMBER.json',\n",
              " '/content/drive/MyDrive/Assessement Hyper 2/Copy of Takeout/takeout-20220331T064458Z-001.zip (Unzipped Files) (1)/Takeout/Location History/Semantic Location History/2016/2016_JULY.json',\n",
              " '/content/drive/MyDrive/Assessement Hyper 2/Copy of Takeout/takeout-20220331T064458Z-001.zip (Unzipped Files) (1)/Takeout/Location History/Semantic Location History/2016/2016_DECEMBER.json',\n",
              " '/content/drive/MyDrive/Assessement Hyper 2/Copy of Takeout/takeout-20220331T064458Z-001.zip (Unzipped Files) (1)/Takeout/Location History/Semantic Location History/2016/2016_AUGUST.json',\n",
              " '/content/drive/MyDrive/Assessement Hyper 2/Copy of Takeout/takeout-20220331T064458Z-001.zip (Unzipped Files) (1)/Takeout/Location History/Semantic Location History/2016/2016_NOVEMBER.json']"
            ]
          },
          "metadata": {},
          "execution_count": 167
        }
      ]
    },
    {
      "cell_type": "code",
      "source": [
        "json_df = pd.read_json(files[0])"
      ],
      "metadata": {
        "id": "Seww04R45TYj"
      },
      "execution_count": null,
      "outputs": []
    },
    {
      "cell_type": "code",
      "source": [
        "name = []\n",
        "address = []\n",
        "\n",
        "for fil in files:\n",
        "    json_df = pd.read_json(fil)\n",
        "    for t_obj in json_df['timelineObjects']:\n",
        "      if 'placeVisit' in t_obj:\n",
        "        name.append(t_obj['placeVisit']['location'].get('name'))\n",
        "        address.append(t_obj['placeVisit']['location'].get('address'))\n",
        "\n",
        "concat_df = pd.DataFrame({\n",
        "    'name':name,\n",
        "    'address':address\n",
        "})\n",
        "concat_df"
      ],
      "metadata": {
        "colab": {
          "base_uri": "https://localhost:8080/",
          "height": 380
        },
        "id": "z-fqJiTQ5dVG",
        "outputId": "0c06bda7-bb6e-4b05-d7e3-23a6d3eb27c7"
      },
      "execution_count": null,
      "outputs": [
        {
          "output_type": "error",
          "ename": "ValueError",
          "evalue": "ignored",
          "traceback": [
            "\u001b[0;31m---------------------------------------------------------------------------\u001b[0m",
            "\u001b[0;31mValueError\u001b[0m                                Traceback (most recent call last)",
            "\u001b[0;32m<ipython-input-169-f02213488c17>\u001b[0m in \u001b[0;36m<module>\u001b[0;34m()\u001b[0m\n\u001b[1;32m      3\u001b[0m \u001b[0;34m\u001b[0m\u001b[0m\n\u001b[1;32m      4\u001b[0m \u001b[0;32mfor\u001b[0m \u001b[0mfil\u001b[0m \u001b[0;32min\u001b[0m \u001b[0mfiles\u001b[0m\u001b[0;34m:\u001b[0m\u001b[0;34m\u001b[0m\u001b[0;34m\u001b[0m\u001b[0m\n\u001b[0;32m----> 5\u001b[0;31m     \u001b[0mjson_df\u001b[0m \u001b[0;34m=\u001b[0m \u001b[0mpd\u001b[0m\u001b[0;34m.\u001b[0m\u001b[0mread_json\u001b[0m\u001b[0;34m(\u001b[0m\u001b[0mfil\u001b[0m\u001b[0;34m)\u001b[0m\u001b[0;34m\u001b[0m\u001b[0;34m\u001b[0m\u001b[0m\n\u001b[0m\u001b[1;32m      6\u001b[0m     \u001b[0;32mfor\u001b[0m \u001b[0mt_obj\u001b[0m \u001b[0;32min\u001b[0m \u001b[0mjson_df\u001b[0m\u001b[0;34m[\u001b[0m\u001b[0;34m'timelineObjects'\u001b[0m\u001b[0;34m]\u001b[0m\u001b[0;34m:\u001b[0m\u001b[0;34m\u001b[0m\u001b[0;34m\u001b[0m\u001b[0m\n\u001b[1;32m      7\u001b[0m       \u001b[0;32mif\u001b[0m \u001b[0;34m'placeVisit'\u001b[0m \u001b[0;32min\u001b[0m \u001b[0mt_obj\u001b[0m\u001b[0;34m:\u001b[0m\u001b[0;34m\u001b[0m\u001b[0;34m\u001b[0m\u001b[0m\n",
            "\u001b[0;32m/usr/local/lib/python3.7/dist-packages/pandas/util/_decorators.py\u001b[0m in \u001b[0;36mwrapper\u001b[0;34m(*args, **kwargs)\u001b[0m\n\u001b[1;32m    205\u001b[0m                 \u001b[0;32melse\u001b[0m\u001b[0;34m:\u001b[0m\u001b[0;34m\u001b[0m\u001b[0;34m\u001b[0m\u001b[0m\n\u001b[1;32m    206\u001b[0m                     \u001b[0mkwargs\u001b[0m\u001b[0;34m[\u001b[0m\u001b[0mnew_arg_name\u001b[0m\u001b[0;34m]\u001b[0m \u001b[0;34m=\u001b[0m \u001b[0mnew_arg_value\u001b[0m\u001b[0;34m\u001b[0m\u001b[0;34m\u001b[0m\u001b[0m\n\u001b[0;32m--> 207\u001b[0;31m             \u001b[0;32mreturn\u001b[0m \u001b[0mfunc\u001b[0m\u001b[0;34m(\u001b[0m\u001b[0;34m*\u001b[0m\u001b[0margs\u001b[0m\u001b[0;34m,\u001b[0m \u001b[0;34m**\u001b[0m\u001b[0mkwargs\u001b[0m\u001b[0;34m)\u001b[0m\u001b[0;34m\u001b[0m\u001b[0;34m\u001b[0m\u001b[0m\n\u001b[0m\u001b[1;32m    208\u001b[0m \u001b[0;34m\u001b[0m\u001b[0m\n\u001b[1;32m    209\u001b[0m         \u001b[0;32mreturn\u001b[0m \u001b[0mcast\u001b[0m\u001b[0;34m(\u001b[0m\u001b[0mF\u001b[0m\u001b[0;34m,\u001b[0m \u001b[0mwrapper\u001b[0m\u001b[0;34m)\u001b[0m\u001b[0;34m\u001b[0m\u001b[0;34m\u001b[0m\u001b[0m\n",
            "\u001b[0;32m/usr/local/lib/python3.7/dist-packages/pandas/util/_decorators.py\u001b[0m in \u001b[0;36mwrapper\u001b[0;34m(*args, **kwargs)\u001b[0m\n\u001b[1;32m    309\u001b[0m                     \u001b[0mstacklevel\u001b[0m\u001b[0;34m=\u001b[0m\u001b[0mstacklevel\u001b[0m\u001b[0;34m,\u001b[0m\u001b[0;34m\u001b[0m\u001b[0;34m\u001b[0m\u001b[0m\n\u001b[1;32m    310\u001b[0m                 )\n\u001b[0;32m--> 311\u001b[0;31m             \u001b[0;32mreturn\u001b[0m \u001b[0mfunc\u001b[0m\u001b[0;34m(\u001b[0m\u001b[0;34m*\u001b[0m\u001b[0margs\u001b[0m\u001b[0;34m,\u001b[0m \u001b[0;34m**\u001b[0m\u001b[0mkwargs\u001b[0m\u001b[0;34m)\u001b[0m\u001b[0;34m\u001b[0m\u001b[0;34m\u001b[0m\u001b[0m\n\u001b[0m\u001b[1;32m    312\u001b[0m \u001b[0;34m\u001b[0m\u001b[0m\n\u001b[1;32m    313\u001b[0m         \u001b[0;32mreturn\u001b[0m \u001b[0mwrapper\u001b[0m\u001b[0;34m\u001b[0m\u001b[0;34m\u001b[0m\u001b[0m\n",
            "\u001b[0;32m/usr/local/lib/python3.7/dist-packages/pandas/io/json/_json.py\u001b[0m in \u001b[0;36mread_json\u001b[0;34m(path_or_buf, orient, typ, dtype, convert_axes, convert_dates, keep_default_dates, numpy, precise_float, date_unit, encoding, encoding_errors, lines, chunksize, compression, nrows, storage_options)\u001b[0m\n\u001b[1;32m    612\u001b[0m \u001b[0;34m\u001b[0m\u001b[0m\n\u001b[1;32m    613\u001b[0m     \u001b[0;32mwith\u001b[0m \u001b[0mjson_reader\u001b[0m\u001b[0;34m:\u001b[0m\u001b[0;34m\u001b[0m\u001b[0;34m\u001b[0m\u001b[0m\n\u001b[0;32m--> 614\u001b[0;31m         \u001b[0;32mreturn\u001b[0m \u001b[0mjson_reader\u001b[0m\u001b[0;34m.\u001b[0m\u001b[0mread\u001b[0m\u001b[0;34m(\u001b[0m\u001b[0;34m)\u001b[0m\u001b[0;34m\u001b[0m\u001b[0;34m\u001b[0m\u001b[0m\n\u001b[0m\u001b[1;32m    615\u001b[0m \u001b[0;34m\u001b[0m\u001b[0m\n\u001b[1;32m    616\u001b[0m \u001b[0;34m\u001b[0m\u001b[0m\n",
            "\u001b[0;32m/usr/local/lib/python3.7/dist-packages/pandas/io/json/_json.py\u001b[0m in \u001b[0;36mread\u001b[0;34m(self)\u001b[0m\n\u001b[1;32m    746\u001b[0m                 \u001b[0mobj\u001b[0m \u001b[0;34m=\u001b[0m \u001b[0mself\u001b[0m\u001b[0;34m.\u001b[0m\u001b[0m_get_object_parser\u001b[0m\u001b[0;34m(\u001b[0m\u001b[0mself\u001b[0m\u001b[0;34m.\u001b[0m\u001b[0m_combine_lines\u001b[0m\u001b[0;34m(\u001b[0m\u001b[0mdata_lines\u001b[0m\u001b[0;34m)\u001b[0m\u001b[0;34m)\u001b[0m\u001b[0;34m\u001b[0m\u001b[0;34m\u001b[0m\u001b[0m\n\u001b[1;32m    747\u001b[0m         \u001b[0;32melse\u001b[0m\u001b[0;34m:\u001b[0m\u001b[0;34m\u001b[0m\u001b[0;34m\u001b[0m\u001b[0m\n\u001b[0;32m--> 748\u001b[0;31m             \u001b[0mobj\u001b[0m \u001b[0;34m=\u001b[0m \u001b[0mself\u001b[0m\u001b[0;34m.\u001b[0m\u001b[0m_get_object_parser\u001b[0m\u001b[0;34m(\u001b[0m\u001b[0mself\u001b[0m\u001b[0;34m.\u001b[0m\u001b[0mdata\u001b[0m\u001b[0;34m)\u001b[0m\u001b[0;34m\u001b[0m\u001b[0;34m\u001b[0m\u001b[0m\n\u001b[0m\u001b[1;32m    749\u001b[0m         \u001b[0mself\u001b[0m\u001b[0;34m.\u001b[0m\u001b[0mclose\u001b[0m\u001b[0;34m(\u001b[0m\u001b[0;34m)\u001b[0m\u001b[0;34m\u001b[0m\u001b[0;34m\u001b[0m\u001b[0m\n\u001b[1;32m    750\u001b[0m         \u001b[0;32mreturn\u001b[0m \u001b[0mobj\u001b[0m\u001b[0;34m\u001b[0m\u001b[0;34m\u001b[0m\u001b[0m\n",
            "\u001b[0;32m/usr/local/lib/python3.7/dist-packages/pandas/io/json/_json.py\u001b[0m in \u001b[0;36m_get_object_parser\u001b[0;34m(self, json)\u001b[0m\n\u001b[1;32m    768\u001b[0m         \u001b[0mobj\u001b[0m \u001b[0;34m=\u001b[0m \u001b[0;32mNone\u001b[0m\u001b[0;34m\u001b[0m\u001b[0;34m\u001b[0m\u001b[0m\n\u001b[1;32m    769\u001b[0m         \u001b[0;32mif\u001b[0m \u001b[0mtyp\u001b[0m \u001b[0;34m==\u001b[0m \u001b[0;34m\"frame\"\u001b[0m\u001b[0;34m:\u001b[0m\u001b[0;34m\u001b[0m\u001b[0;34m\u001b[0m\u001b[0m\n\u001b[0;32m--> 770\u001b[0;31m             \u001b[0mobj\u001b[0m \u001b[0;34m=\u001b[0m \u001b[0mFrameParser\u001b[0m\u001b[0;34m(\u001b[0m\u001b[0mjson\u001b[0m\u001b[0;34m,\u001b[0m \u001b[0;34m**\u001b[0m\u001b[0mkwargs\u001b[0m\u001b[0;34m)\u001b[0m\u001b[0;34m.\u001b[0m\u001b[0mparse\u001b[0m\u001b[0;34m(\u001b[0m\u001b[0;34m)\u001b[0m\u001b[0;34m\u001b[0m\u001b[0;34m\u001b[0m\u001b[0m\n\u001b[0m\u001b[1;32m    771\u001b[0m \u001b[0;34m\u001b[0m\u001b[0m\n\u001b[1;32m    772\u001b[0m         \u001b[0;32mif\u001b[0m \u001b[0mtyp\u001b[0m \u001b[0;34m==\u001b[0m \u001b[0;34m\"series\"\u001b[0m \u001b[0;32mor\u001b[0m \u001b[0mobj\u001b[0m \u001b[0;32mis\u001b[0m \u001b[0;32mNone\u001b[0m\u001b[0;34m:\u001b[0m\u001b[0;34m\u001b[0m\u001b[0;34m\u001b[0m\u001b[0m\n",
            "\u001b[0;32m/usr/local/lib/python3.7/dist-packages/pandas/io/json/_json.py\u001b[0m in \u001b[0;36mparse\u001b[0;34m(self)\u001b[0m\n\u001b[1;32m    883\u001b[0m \u001b[0;34m\u001b[0m\u001b[0m\n\u001b[1;32m    884\u001b[0m         \u001b[0;32melse\u001b[0m\u001b[0;34m:\u001b[0m\u001b[0;34m\u001b[0m\u001b[0;34m\u001b[0m\u001b[0m\n\u001b[0;32m--> 885\u001b[0;31m             \u001b[0mself\u001b[0m\u001b[0;34m.\u001b[0m\u001b[0m_parse_no_numpy\u001b[0m\u001b[0;34m(\u001b[0m\u001b[0;34m)\u001b[0m\u001b[0;34m\u001b[0m\u001b[0;34m\u001b[0m\u001b[0m\n\u001b[0m\u001b[1;32m    886\u001b[0m \u001b[0;34m\u001b[0m\u001b[0m\n\u001b[1;32m    887\u001b[0m         \u001b[0;32mif\u001b[0m \u001b[0mself\u001b[0m\u001b[0;34m.\u001b[0m\u001b[0mobj\u001b[0m \u001b[0;32mis\u001b[0m \u001b[0;32mNone\u001b[0m\u001b[0;34m:\u001b[0m\u001b[0;34m\u001b[0m\u001b[0;34m\u001b[0m\u001b[0m\n",
            "\u001b[0;32m/usr/local/lib/python3.7/dist-packages/pandas/io/json/_json.py\u001b[0m in \u001b[0;36m_parse_no_numpy\u001b[0;34m(self)\u001b[0m\n\u001b[1;32m   1138\u001b[0m         \u001b[0;32mif\u001b[0m \u001b[0morient\u001b[0m \u001b[0;34m==\u001b[0m \u001b[0;34m\"columns\"\u001b[0m\u001b[0;34m:\u001b[0m\u001b[0;34m\u001b[0m\u001b[0;34m\u001b[0m\u001b[0m\n\u001b[1;32m   1139\u001b[0m             self.obj = DataFrame(\n\u001b[0;32m-> 1140\u001b[0;31m                 \u001b[0mloads\u001b[0m\u001b[0;34m(\u001b[0m\u001b[0mjson\u001b[0m\u001b[0;34m,\u001b[0m \u001b[0mprecise_float\u001b[0m\u001b[0;34m=\u001b[0m\u001b[0mself\u001b[0m\u001b[0;34m.\u001b[0m\u001b[0mprecise_float\u001b[0m\u001b[0;34m)\u001b[0m\u001b[0;34m,\u001b[0m \u001b[0mdtype\u001b[0m\u001b[0;34m=\u001b[0m\u001b[0;32mNone\u001b[0m\u001b[0;34m\u001b[0m\u001b[0;34m\u001b[0m\u001b[0m\n\u001b[0m\u001b[1;32m   1141\u001b[0m             )\n\u001b[1;32m   1142\u001b[0m         \u001b[0;32melif\u001b[0m \u001b[0morient\u001b[0m \u001b[0;34m==\u001b[0m \u001b[0;34m\"split\"\u001b[0m\u001b[0;34m:\u001b[0m\u001b[0;34m\u001b[0m\u001b[0;34m\u001b[0m\u001b[0m\n",
            "\u001b[0;31mValueError\u001b[0m: Unexpected character found when decoding 'true'"
          ]
        }
      ]
    },
    {
      "cell_type": "code",
      "source": [
        "concat_df.loc[(concat_df['name'] == 'R. dos Ipês, 72')].shape"
      ],
      "metadata": {
        "id": "I4ZNnw4O_042"
      },
      "execution_count": null,
      "outputs": []
    },
    {
      "cell_type": "code",
      "source": [
        "concat_df.loc[(concat_df['name'] == 'Fórum da Comarca de Governador Valadares')].shape"
      ],
      "metadata": {
        "id": "wrtNc7KrCAuI"
      },
      "execution_count": null,
      "outputs": []
    },
    {
      "cell_type": "code",
      "source": [
        "concat_df.loc[(concat_df['name'] == 'Rua João Pinheiro, 345 - Esplanada, Governador Valadares')].shape"
      ],
      "metadata": {
        "id": "7hwEYZLMCTgh"
      },
      "execution_count": null,
      "outputs": []
    },
    {
      "cell_type": "code",
      "source": [
        "files[4]"
      ],
      "metadata": {
        "id": "TlzKQT508XYB"
      },
      "execution_count": null,
      "outputs": []
    },
    {
      "cell_type": "code",
      "source": [
        "files[5]"
      ],
      "metadata": {
        "id": "TSYyzmj18bKY"
      },
      "execution_count": null,
      "outputs": []
    },
    {
      "cell_type": "code",
      "source": [
        "help(files)"
      ],
      "metadata": {
        "id": "kD_Y-bDp8-8T"
      },
      "execution_count": null,
      "outputs": []
    },
    {
      "cell_type": "code",
      "source": [
        "files.pop(4)\n",
        "files"
      ],
      "metadata": {
        "id": "X9s644ZN8rCW"
      },
      "execution_count": null,
      "outputs": []
    },
    {
      "cell_type": "code",
      "source": [
        "import plotly.express as px\n",
        "import pandas as pd\n",
        "import json"
      ],
      "metadata": {
        "id": "Lw-0rnnIDzwQ"
      },
      "execution_count": null,
      "outputs": []
    },
    {
      "cell_type": "code",
      "source": [
        ""
      ],
      "metadata": {
        "id": "JshdiX3yD1-l"
      },
      "execution_count": null,
      "outputs": []
    },
    {
      "cell_type": "code",
      "source": [
        "\n",
        "\n",
        "json_df = pd.read_json(files[])\n",
        "for t_obj in json_df['timelineObjects']:\n",
        "  if 'placeVisit' in t_obj:\n",
        "    name.append(t_obj['placeVisit']['location'].get('name'))\n",
        "    address.append(t_obj['placeVisit']['location'].get('address'))"
      ],
      "metadata": {
        "id": "MrV9_ksp8Lm9"
      },
      "execution_count": null,
      "outputs": []
    },
    {
      "cell_type": "code",
      "source": [
        "name = []\n",
        "address = []\n",
        "\n",
        "for fil in files:\n",
        "  json_df = pd.read_json(fil)\n",
        "  print(json_df)\n",
        "\n",
        "  for t_object in json_df['timelineObjects']:\n",
        "      if 'placeVisit' in t_object:\n",
        "          #name.append(t_object['placeVisit']['location']['name'])\n",
        "          address.append(t_object['placeVisit']['location']['address'])\n",
        "\n",
        "concat_df = pd.DataFrame({\n",
        "    #'name': name,\n",
        "    'address': address\n",
        "})\n",
        "\n",
        "concat_df"
      ],
      "metadata": {
        "id": "08tToAlT21cE"
      },
      "execution_count": null,
      "outputs": []
    },
    {
      "cell_type": "code",
      "source": [
        ""
      ],
      "metadata": {
        "id": "bt3wYpcU5ADk"
      },
      "execution_count": null,
      "outputs": []
    },
    {
      "cell_type": "code",
      "source": [
        ""
      ],
      "metadata": {
        "id": "pXIiRkiK4jM-"
      },
      "execution_count": null,
      "outputs": []
    },
    {
      "cell_type": "code",
      "source": [
        "import os\n",
        "# create empty list to store dataframes\n",
        "li = []\n",
        "# loop through list of files and read each one into a dataframe and append to list\n",
        "for f in files:\n",
        "  # get filename\n",
        "    stock = os.path.basename(f)\n",
        "    # read in csv\n",
        "    temp_df = pd.read_json(f)\n",
        "    # create new column with filename\n",
        "    temp_df['ticker'] = stock\n",
        "    # data cleaning to remove the .csv\n",
        "    temp_df['ticker'] = temp_df['ticker'].replace('.json', '', regex=True)\n",
        "    # append df to list\n",
        "    if 'placeVisit' in t:\n",
        "      li.append(\n",
        "        {\n",
        "            'name': t['placeVisit']['location']['name'],\n",
        "            'address': t['placeVisit']['location']['address']\n",
        "        }\n",
        "    )\n",
        "      #create DataFrame\n",
        "      df_total = pd.concat(li, axis=0)\n",
        "      df = pd.DataFrame(li)\n",
        "      df \n",
        "    \n",
        "    li.append(temp_df)\n",
        "    print(f'Successfully created dataframe for {f} with shape {temp_df.shape}')\n",
        "    # concatenate our list of dataframes into one!\n",
        "df_total = pd.concat(li, axis=0)\n",
        "print(df_total.shape)"
      ],
      "metadata": {
        "id": "XeurwDM_TxGY"
      },
      "execution_count": null,
      "outputs": []
    },
    {
      "cell_type": "code",
      "source": [
        "import os\n",
        "# create empty list to store dataframes\n",
        "li = []\n",
        "# loop through list of files and read each one into a dataframe and append to list\n",
        "for f in files:\n",
        "  # get filename\n",
        "    stock = os.path.basename(f)\n",
        "    # read in csv\n",
        "    temp_df = pd.read_json(f)\n",
        "    # create new column with filename\n",
        "    temp_df['ticker'] = stock\n",
        "    # data cleaning to remove the .csv\n",
        "    temp_df['ticker'] = temp_df['ticker'].replace('.json', '', regex=True)\n",
        "    # append df to list\n",
        "    li.append(temp_df)\n",
        "    print(f'Successfully created dataframe for {f} with shape {temp_df.shape}')\n",
        "    # concatenate our list of dataframes into one!\n",
        "df_total = pd.concat(li, axis=0)\n",
        "print(df_total.shape)"
      ],
      "metadata": {
        "id": "KNYZ1vWSOZ6c"
      },
      "execution_count": null,
      "outputs": []
    },
    {
      "cell_type": "code",
      "source": [
        "# create empty list to store dataframes\n",
        "li = []\n",
        "# loop through list of files and read each one into a dataframe and append to list\n",
        "for f in files:\n",
        "  # get filename\n",
        "    stock = os.path.basename(f)\n",
        "    # read in csv\n",
        "    temp_df = pd.read_json(f)\n",
        "    # create new column with filename\n",
        "    temp_df['ticker'] = stock\n",
        "    # data cleaning to remove the .json\n",
        "    temp_df['ticker'] = temp_df['ticker'].replace('.json', '', regex=True)\n",
        "    # append df to list\n",
        "    li.append(temp_df)\n",
        "    print(f'Successfully created dataframe for {stock} with shape {temp_df.shape}')\n",
        "    # concatenate our list of dataframes into one!\n",
        "df_total = pd.concat(li, axis=0)\n",
        "print(df_total.shape)"
      ],
      "metadata": {
        "id": "hNcBhkwIVsrV"
      },
      "execution_count": null,
      "outputs": []
    },
    {
      "cell_type": "code",
      "source": [
        "pd.DataFrame(li)\n"
      ],
      "metadata": {
        "id": "zUYsmlC5Y7TO"
      },
      "execution_count": null,
      "outputs": []
    },
    {
      "cell_type": "code",
      "source": [
        "#acess path\n",
        "#print(june_2016_read['timelineObjects'][0]['placeVisit']['location']['name'])\n",
        "#create empty and input online name and address\n",
        "#name_list = []\n",
        "#for t in june_2016_read['timelineObjects']:\n",
        "if 'placeVisit' in f:\n",
        "  li.append(\n",
        "  {\n",
        "    'name': f['placeVisit']['location']['name'],\n",
        "    'address': f['placeVisit']['location']['address']\n",
        "  }\n",
        "  )\n",
        "#create DataFrame\n",
        "df_2 = pd.DataFrame(li)\n",
        "print(df_2)"
      ],
      "metadata": {
        "id": "5DM-0qxFVafK"
      },
      "execution_count": null,
      "outputs": []
    },
    {
      "cell_type": "code",
      "source": [
        "import glob\n",
        "files = glob.glob('/content/drive/MyDrive/Assessement Hyper 2/Copy of Takeout/takeout-20220331T064458Z-001.zip (Unzipped Files) (1)/Takeout/Location History/Semantic Location History/2016/*.json')\n",
        "for l in files:\n",
        "  print(l)"
      ],
      "metadata": {
        "id": "HWi2lI2He69D"
      },
      "execution_count": null,
      "outputs": []
    },
    {
      "cell_type": "code",
      "source": [
        ""
      ],
      "metadata": {
        "id": "a7l8NYPpa7wQ"
      },
      "execution_count": null,
      "outputs": []
    },
    {
      "cell_type": "code",
      "source": [
        "\n",
        "with open('/content/drive/MyDrive/Assessement Hyper 2/Copy of Takeout/takeout-20220331T064458Z-001.zip (Unzipped Files) (1)/Takeout/Location History/Semantic Location History/2016/2016_JULY.json') as json_file: \n",
        "    data = json.load(json_file) \n",
        "  \n",
        "employee_data = data['timelineObjects'] \n",
        "data_file = open('data_file.csv', 'w') \n",
        "csv_writer = csv.writer(data_file) \n",
        "count = 0\n",
        "  \n",
        "for emp in employee_data: \n",
        "    if count == 0: \n",
        "        header = emp.keys() \n",
        "        csv_writer.writerow(header) \n",
        "        count += 1\n",
        "  \n",
        "    \n",
        "    csv_writer.writerow(emp.values()) \n",
        "  \n",
        "data_file.close() "
      ],
      "metadata": {
        "id": "xRcPjQ_BXzdF"
      },
      "execution_count": null,
      "outputs": []
    },
    {
      "cell_type": "code",
      "source": [
        "y = pd.read_csv('data_file.csv')"
      ],
      "metadata": {
        "id": "uAOBfIlZa5R9"
      },
      "execution_count": null,
      "outputs": []
    },
    {
      "cell_type": "code",
      "source": [
        "file_name = \"/content/drive/MyDrive/Assessement Hyper 2/Copy of Takeout/takeout-20220331T064458Z-001.zip (Unzipped Files) (1)/Takeout/Location History/Semantic Location History/2016/2016_AUGUST.json\"\n"
      ],
      "metadata": {
        "id": "PrwWmIm3GnJG"
      },
      "execution_count": null,
      "outputs": []
    },
    {
      "cell_type": "code",
      "source": [
        "url = \"/content/drive/MyDrive/Assessement Hyper 2/Copy of Takeout/takeout-20220331T064458Z-001.zip (Unzipped Files) (1)/Takeout/Location History/Semantic Location History/2016/2016_AUGUST.json\""
      ],
      "metadata": {
        "id": "XGk6OoFyW1-l"
      },
      "execution_count": null,
      "outputs": []
    },
    {
      "cell_type": "code",
      "source": [
        "with open('/content/drive/MyDrive/Assessement Hyper 2/Copy of Takeout/takeout-20220331T064458Z-001.zip (Unzipped Files) (1)/Takeout/Location History/Semantic Location History/2016/2016_JULY.json') as f:\n",
        "   data = json.load(f)\n",
        "\n",
        "print(data)"
      ],
      "metadata": {
        "id": "ZZW6XSNHHKYT"
      },
      "execution_count": null,
      "outputs": []
    },
    {
      "cell_type": "code",
      "source": [
        "df = json_normalize(data) #Results contain the required data\n",
        "print(df)"
      ],
      "metadata": {
        "id": "ExFWgY9zHfDJ"
      },
      "execution_count": null,
      "outputs": []
    },
    {
      "cell_type": "code",
      "source": [
        "#CREATE cvs  file\n",
        "df = pd.read_json (r'/content/drive/MyDrive/Assessement Hyper 2/Copy of Takeout/takeout-20220331T064458Z-001.zip (Unzipped Files) (1)/Takeout/Location History/Semantic Location History/2016/2016_OCTOBER.json')\n",
        "vv = df.to_csv (r'/content/drive/MyDrive/Assessement Hyper 2/Copy of Takeout/takeout-20220331T064458Z-001.zip (Unzipped Files) (1)/Takeout/Location History/Semantic Location History/2016/2016_OCTOBER.csv', index = None)"
      ],
      "metadata": {
        "id": "5QkWeleVB079"
      },
      "execution_count": null,
      "outputs": []
    },
    {
      "cell_type": "code",
      "source": [
        "pd.read_csv('/content/drive/MyDrive/Assessement Hyper 2/Copy of Takeout/takeout-20220331T064458Z-001.zip (Unzipped Files) (1)/Takeout/Location History/Semantic Location History/2016/2016_OCTOBER.csv')"
      ],
      "metadata": {
        "id": "8bPSKx6aI90C"
      },
      "execution_count": null,
      "outputs": []
    },
    {
      "cell_type": "code",
      "source": [
        "bb = pd.read_csv('/content/drive/MyDrive/Assessement Hyper 2/Copy of Takeout/takeout-20220331T064458Z-001.zip (Unzipped Files) (1)/Takeout/Location History/Semantic Location History/2016/2016_OCTOBER.csv')"
      ],
      "metadata": {
        "id": "C6bBL56Dbshf"
      },
      "execution_count": null,
      "outputs": []
    },
    {
      "cell_type": "code",
      "source": [
        "bb.head()"
      ],
      "metadata": {
        "id": "ZCM-LoXucLWt"
      },
      "execution_count": null,
      "outputs": []
    },
    {
      "cell_type": "code",
      "source": [
        "with open('/content/drive/MyDrive/Assessement Hyper 2/Copy of Takeout/takeout-20220331T064458Z-001.zip (Unzipped Files) (1)/Takeout/Location History/Semantic Location History/2016/2016_JULY.json') as json_file: \n",
        "    data = json.load(json_file) \n",
        "  \n",
        "employee_data = data['timelineObjects'] \n",
        "data_file = open('data_file.csv', 'w') \n",
        "csv_writer = csv.writer(data_file) \n",
        "count = 0\n",
        "  \n",
        "for emp in employee_data: \n",
        "    if count == 0: \n",
        "        header = emp.keys() \n",
        "        csv_writer.writerow(header) \n",
        "        count += 1\n",
        "  \n",
        "    \n",
        "    csv_writer.writerow(emp.values()) \n",
        "  \n",
        "data_file.close() "
      ],
      "metadata": {
        "id": "fzEAIkDHcq0-"
      },
      "execution_count": null,
      "outputs": []
    },
    {
      "cell_type": "code",
      "source": [
        "data = json.load(open('/content/drive/MyDrive/Assessement Hyper 2/Copy of Takeout/takeout-20220331T064458Z-001.zip (Unzipped Files) (1)/Takeout/Location History/Semantic Location History/2016/2016_SEPTEMBER.json'))\n",
        "jtopy=json.dumps(data) #json.dumps take a dictionary as input and returns a string as output.\n",
        "dict_json=json.loads(jtopy) # json.loads take a string as input and returns a dictionary as output.\n",
        "print(dict_json[\"timelineObjects\"])"
      ],
      "metadata": {
        "id": "n7ppPJVqfCXB"
      },
      "execution_count": null,
      "outputs": []
    }
  ]
}